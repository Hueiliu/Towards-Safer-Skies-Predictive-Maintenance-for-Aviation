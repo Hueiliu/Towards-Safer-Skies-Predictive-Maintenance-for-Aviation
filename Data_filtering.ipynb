{
  "cells": [
    {
      "cell_type": "markdown",
      "metadata": {
        "id": "view-in-github"
      },
      "source": [
        "<a href=\"https://colab.research.google.com/github/hyang0129/NGAFIDDATASET/blob/main/NGAFID_DATASET_DASK_EXAMPLE.ipynb\" target=\"_parent\"><img src=\"https://colab.research.google.com/assets/colab-badge.svg\" alt=\"Open In Colab\"/></a>"
      ]
    },
    {
      "cell_type": "markdown",
      "metadata": {
        "id": "Jb948fwpgvDN"
      },
      "source": [
        "# IMPORT DEPENDENCIES"
      ]
    },
    {
      "cell_type": "code",
      "execution_count": null,
      "metadata": {
        "id": "027FHavVxd-g"
      },
      "outputs": [],
      "source": [
        "import sys\n",
        "sys.path.append('/content/NGAFIDDATASET')"
      ]
    },
    {
      "cell_type": "code",
      "execution_count": null,
      "metadata": {
        "id": "stR5jloA_BUO",
        "scrolled": true
      },
      "outputs": [],
      "source": [
        "import dask.dataframe as dd\n",
        "import pandas as pd\n",
        "flight_data_df = dd.read_parquet('all_flights/one_parq')\n",
        "\n",
        "flight_header_df = pd.read_csv('all_flights/flight_header.csv', index_col = 'Master Index')\n"
      ]
    },
    {
      "cell_type": "code",
      "execution_count": null,
      "metadata": {
        "id": "ZLxYnmk6_KTn"
      },
      "outputs": [],
      "source": [
        "flight_data_df = flight_data_df.compute()"
      ]
    },
    {
      "cell_type": "code",
      "execution_count": null,
      "metadata": {
        "id": "lyWtvcRBOYEb"
      },
      "outputs": [],
      "source": [
        "flight_data_df.head()"
      ]
    },
    {
      "cell_type": "code",
      "execution_count": null,
      "metadata": {
        "id": "MaZpSxosEW0q",
        "scrolled": true
      },
      "outputs": [],
      "source": [
        "label_distribution = flight_header_df['label'].value_counts()\n",
        "label_distribution"
      ]
    },
    {
      "cell_type": "code",
      "execution_count": null,
      "metadata": {
        "id": "bSg6p2VYOYEb"
      },
      "outputs": [],
      "source": [
        "filtered_damage_rows"
      ]
    },
    {
      "cell_type": "code",
      "execution_count": null,
      "metadata": {
        "id": "AIl8WwMIOYEc"
      },
      "outputs": [],
      "source": [
        "damage_rows = flight_header_df[flight_header_df['label'].str.endswith('oil leak/pressure issue ')]\n",
        "filtered_damage_rows = damage_rows[damage_rows['date_diff'].isin([-2,-1, 1,2])]\n",
        "a = filtered_damage_rows['date_diff'].value_counts()\n",
        "a"
      ]
    },
    {
      "cell_type": "code",
      "execution_count": null,
      "metadata": {
        "id": "M3JdpSTIOYEc"
      },
      "outputs": [],
      "source": [
        "master_indices = filtered_damage_rows.index.tolist()\n",
        "master_indices_list = list(master_indices)\n",
        "filtered_df = flight_data_df.loc[master_indices_list]\n",
        "filtered_df.head()"
      ]
    },
    {
      "cell_type": "code",
      "execution_count": null,
      "metadata": {
        "scrolled": true,
        "id": "g6AsK7ErOYEc"
      },
      "outputs": [],
      "source": [
        "filtered_df"
      ]
    },
    {
      "cell_type": "code",
      "execution_count": null,
      "metadata": {
        "id": "s3I9paDWOYEc"
      },
      "outputs": [],
      "source": [
        "target_series = filtered_damage_rows['date_diff'].apply(lambda x: 1 if x in [-3, -2, -1] else 0)\n",
        "target_series.name = 'target'\n",
        "\n",
        "# Now join this target column onto sorted_df by their shared index (Master_index)\n",
        "# Since filtered_damage_rows and sorted_df share these master indices, we can join on index:\n",
        "sorted_df = filtered_df.join(target_series, how='left')\n",
        "\n",
        "# If there are any indices in sorted_df not present in filtered_damage_rows (unlikely here),\n",
        "# they would get NaN. We can fill them with 0 just to be safe:\n",
        "sorted_df['target'] = sorted_df['target'].fillna(0)\n",
        "\n",
        "# Now sorted_df has the target column as requested.\n",
        "print(sorted_df.head())"
      ]
    },
    {
      "cell_type": "code",
      "execution_count": null,
      "metadata": {
        "scrolled": true,
        "id": "mCb1fjArOYEd"
      },
      "outputs": [],
      "source": [
        "# Convert master_indices to a list if not already\n",
        "master_indices_list = list(master_indices)\n",
        "\n",
        "# Filter using the Dask DataFrame's query capability\n",
        "filtered_flight_data = flight_data_df[flight_data_df.index.isin(master_indices_list)]\n",
        "\n",
        "# Sort by 'timestep' after computing the result\n",
        "sorted_flight_data = filtered_flight_data.compute().sort_values(by='timestep')\n",
        "\n",
        "# Display the resulting DataFrame\n",
        "print(sorted_flight_data)"
      ]
    },
    {
      "cell_type": "code",
      "execution_count": null,
      "metadata": {
        "scrolled": true,
        "id": "1ghahtKxOYEd"
      },
      "outputs": [],
      "source": [
        "target_series = filtered_damage_rows['date_diff'].apply(lambda x: 1 if x in [-3, -2, -1] else 0)\n",
        "target_series.name = 'target'\n",
        "\n",
        "# Now join this target column onto sorted_df by their shared index (Master_index)\n",
        "# Since filtered_damage_rows and sorted_df share these master indices, we can join on index:\n",
        "sorted_df = sorted_df.join(target_series, how='left')\n",
        "\n",
        "# If there are any indices in sorted_df not present in filtered_damage_rows (unlikely here),\n",
        "# they would get NaN. We can fill them with 0 just to be safe:\n",
        "sorted_df['target'] = sorted_df['target'].fillna(0)\n",
        "\n",
        "# Now sorted_df has the target column as requested.\n",
        "print(sorted_df.head())"
      ]
    },
    {
      "cell_type": "code",
      "execution_count": null,
      "metadata": {
        "id": "HkorN-FROYEd"
      },
      "outputs": [],
      "source": [
        "# Export to CSV\n",
        "sorted_df.to_csv('data.csv', index=False)\n"
      ]
    }
  ],
  "metadata": {
    "colab": {
      "provenance": []
    },
    "kernelspec": {
      "display_name": "Python 3 (ipykernel)",
      "language": "python",
      "name": "python3"
    },
    "language_info": {
      "codemirror_mode": {
        "name": "ipython",
        "version": 3
      },
      "file_extension": ".py",
      "mimetype": "text/x-python",
      "name": "python",
      "nbconvert_exporter": "python",
      "pygments_lexer": "ipython3",
      "version": "3.12.7"
    }
  },
  "nbformat": 4,
  "nbformat_minor": 0
}